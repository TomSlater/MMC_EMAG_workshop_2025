{
 "cells": [
  {
   "cell_type": "markdown",
   "metadata": {},
   "source": [
    "# Introduction to Python\n",
    "\n",
    "![Python](https://www.python.org/static/community_logos/python-logo-master-v3-TM.png)"
   ]
  },
  {
   "cell_type": "markdown",
   "metadata": {},
   "source": [
    "Python is a fully featured computer language which is easy to read and learn. This does not mean you can fully master it in a few minutes. But it does mean that it is easy to get started and that a small effort in learning it is quickly and handsomely rewarded. This notebook introduces some key features of the language to get you started. \n",
    "\n",
    "In this class we will only make use of Jupyter notebooks to write and execute Python code. There many other methods of interacting with the Python language which might be more appropriate for a specific task. We will show examples before working through this notebook.\n",
    "\n",
    "### <span style=\"color: red\"> It is highly recommended that you start up your own notebook and try to type and run the code as it is worked through.</span> \n",
    "\n",
    "### <span style=\"color: red\"> Similarly, you will learn much more by trying to produce the short programs on your own, before using the given examples.</span> \n",
    "\n"
   ]
  },
  {
   "cell_type": "markdown",
   "metadata": {},
   "source": [
    "# Built-in Data Structures(I)\n",
    "## Variables\n",
    "In Python, like in other programming languages, we use variables to store values. They can be numbers or text (and other things) but unlike in other languages like C or Fortran the type of variable does not need to be specified. The type of the variable is \"guessed\" when it is assigned. \n",
    "\n",
    "\n",
    "The operator `=` (*a single 'equals' sign*) is used to assign variables:"
   ]
  },
  {
   "cell_type": "code",
   "execution_count": null,
   "metadata": {},
   "outputs": [],
   "source": [
    "a=1\n",
    "b=3.1452\n",
    "c='Some text'"
   ]
  },
  {
   "cell_type": "markdown",
   "metadata": {},
   "source": [
    "**Some `print` examples**\n",
    "\n",
    "We can use the `print()` command, or function, to print the value of a variable:"
   ]
  },
  {
   "cell_type": "code",
   "execution_count": null,
   "metadata": {},
   "outputs": [],
   "source": [
    "print(a)\n",
    "print(b)\n",
    "print(c)"
   ]
  },
  {
   "cell_type": "code",
   "execution_count": null,
   "metadata": {},
   "outputs": [],
   "source": [
    "print (a==b)"
   ]
  },
  {
   "cell_type": "code",
   "execution_count": null,
   "metadata": {},
   "outputs": [],
   "source": [
    "print (b > a)"
   ]
  },
  {
   "cell_type": "code",
   "execution_count": null,
   "metadata": {},
   "outputs": [],
   "source": [
    "print (\"e\" in c)"
   ]
  },
  {
   "cell_type": "code",
   "execution_count": null,
   "metadata": {},
   "outputs": [],
   "source": [
    "d = True\n",
    "print (d is False)"
   ]
  },
  {
   "cell_type": "markdown",
   "metadata": {},
   "source": [
    "We can check what Python has interpreted the variables as:"
   ]
  },
  {
   "cell_type": "code",
   "execution_count": null,
   "metadata": {},
   "outputs": [],
   "source": [
    "type(a)"
   ]
  },
  {
   "cell_type": "markdown",
   "metadata": {},
   "source": [
    "`int` stands for integer."
   ]
  },
  {
   "cell_type": "code",
   "execution_count": null,
   "metadata": {},
   "outputs": [],
   "source": [
    "type(b)"
   ]
  },
  {
   "cell_type": "markdown",
   "metadata": {},
   "source": [
    "`float` stands for [floating point number](https://en.wikipedia.org/wiki/Floating-point_arithmetic#Floating-point_numbers)."
   ]
  },
  {
   "cell_type": "code",
   "execution_count": null,
   "metadata": {},
   "outputs": [],
   "source": [
    "type(c)"
   ]
  },
  {
   "cell_type": "markdown",
   "metadata": {},
   "source": [
    "For variables that are strings, we can check their length using `len`:"
   ]
  },
  {
   "cell_type": "code",
   "execution_count": null,
   "metadata": {},
   "outputs": [],
   "source": [
    "len(c) #Tells us the number of characters in the string"
   ]
  },
  {
   "cell_type": "markdown",
   "metadata": {},
   "source": [
    "**Formatting `print` statements**\n",
    "\n",
    "`print()` statements can be formatted. Since python v3.6, f-strings can be used to give extra formatting capabilities."
   ]
  },
  {
   "cell_type": "code",
   "execution_count": null,
   "metadata": {},
   "outputs": [],
   "source": [
    "print(\"The value of a is: \", a)\n",
    "print(f\"Alternatively, printed using f-strings, the value of a is: {a}\")"
   ]
  },
  {
   "cell_type": "markdown",
   "metadata": {},
   "source": [
    "Using f-strings we can also format the printed output of floating point numbers."
   ]
  },
  {
   "cell_type": "code",
   "execution_count": null,
   "metadata": {},
   "outputs": [],
   "source": [
    "print(f\"The value of b to two decimal places is {b:.2f}\")"
   ]
  },
  {
   "cell_type": "markdown",
   "metadata": {},
   "source": [
    "### Type casting\n",
    "\n"
   ]
  },
  {
   "cell_type": "code",
   "execution_count": null,
   "metadata": {},
   "outputs": [],
   "source": [
    "e = int (b)\n",
    "f = float (a)\n",
    "g = str (a)\n",
    "print ('the integer form of a =',e,' And the float form of b =',f, 'And the string form of a =', g)\n",
    "    "
   ]
  },
  {
   "cell_type": "markdown",
   "metadata": {},
   "source": [
    "`str` stands for [string](https://en.wikipedia.org/wiki/String_(computer_science))."
   ]
  },
  {
   "cell_type": "markdown",
   "metadata": {},
   "source": [
    "Python tries to interpret the type of each variable when it is assigned. Trying to operate on variables of different types can sometimes produce errors. Evaluate the following cell. Why does it give an error?"
   ]
  },
  {
   "cell_type": "code",
   "execution_count": null,
   "metadata": {},
   "outputs": [],
   "source": [
    "a+c"
   ]
  },
  {
   "cell_type": "markdown",
   "metadata": {},
   "source": [
    "\n",
    "### <span style=\"color: red\"> Exercise:</span> \n",
    "**Convert temperature from 21 Celsius to Fahrenheit.**\n",
    "\n",
    "\n",
    "$F= \\frac{9}{5}C + 32$ \n",
    "\n",
    "F: temperature in Fahrenheit\n",
    "\n",
    "C : temperature in Celsius\n",
    "\n",
    "**Use a printed message to deliver an output to the user, similar to: *\"A temperature of XX degrees Celsius is YY in Fahrenheit\"***\n"
   ]
  },
  {
   "cell_type": "code",
   "execution_count": null,
   "metadata": {},
   "outputs": [],
   "source": []
  },
  {
   "cell_type": "markdown",
   "metadata": {},
   "source": [
    "## Lists"
   ]
  },
  {
   "cell_type": "markdown",
   "metadata": {},
   "source": [
    "Another important data structure is python is lists. Lists are ordered lists of objects. These can be variables, arrays, objects, lists, tuples etc. To create a list we use the `=` operator again but the use square brackets to start a list of objects separated by commas:"
   ]
  },
  {
   "cell_type": "code",
   "execution_count": null,
   "metadata": {},
   "outputs": [],
   "source": [
    "listA=[1,3.1452,'Some text',(2,3)] #This is a comment\n",
    "listB=[a,c,c] #note that lists are in square brackets"
   ]
  },
  {
   "cell_type": "markdown",
   "metadata": {},
   "source": [
    "We can get the length of a list again with `len()`:"
   ]
  },
  {
   "cell_type": "code",
   "execution_count": null,
   "metadata": {},
   "outputs": [],
   "source": [
    "print(len(listA))\n",
    "print(len(listB))\n"
   ]
  },
  {
   "cell_type": "markdown",
   "metadata": {},
   "source": [
    "We can use the `print` function to print a list: "
   ]
  },
  {
   "cell_type": "code",
   "execution_count": null,
   "metadata": {},
   "outputs": [],
   "source": [
    "print(listB)"
   ]
  },
  {
   "cell_type": "markdown",
   "metadata": {},
   "source": [
    "_Indexing_ can be used to extract individual list items by their index (position in the list). Note that indexing starts at zero. So to print the first item of `listA` above, we need to use the index 0:"
   ]
  },
  {
   "cell_type": "code",
   "execution_count": null,
   "metadata": {},
   "outputs": [],
   "source": [
    "print(listA[0]) #In Python counting begins from zero!"
   ]
  },
  {
   "cell_type": "markdown",
   "metadata": {},
   "source": [
    "To get the third item of the list:"
   ]
  },
  {
   "cell_type": "code",
   "execution_count": null,
   "metadata": {},
   "outputs": [],
   "source": [
    "listA[2]"
   ]
  },
  {
   "cell_type": "markdown",
   "metadata": {},
   "source": [
    "Notice we didn't use print in the cell above. In code cells, evaluating an object usually gives you a useful representation of it."
   ]
  },
  {
   "cell_type": "markdown",
   "metadata": {},
   "source": [
    "List can also be  _sliced_. Slicing extracts more than one item, in the form of a smaller list: "
   ]
  },
  {
   "cell_type": "code",
   "execution_count": null,
   "metadata": {},
   "outputs": [],
   "source": [
    "listB[1:3]"
   ]
  },
  {
   "cell_type": "markdown",
   "metadata": {},
   "source": [
    "Lists can also be compared. For example, in the cell below we check if the two lists are equal:"
   ]
  },
  {
   "cell_type": "code",
   "execution_count": null,
   "metadata": {},
   "outputs": [],
   "source": [
    "listA==listB"
   ]
  },
  {
   "cell_type": "markdown",
   "metadata": {},
   "source": [
    "Notice that the comparison operator is two equal signs: `==`. Try not to confuse it with the assignement operator, which is just one `=`."
   ]
  },
  {
   "cell_type": "markdown",
   "metadata": {},
   "source": [
    "**More complicated data structures**\n",
    "\n",
    "We saw that lists could contain any valid Python data type (we haven't met all of the data types yet...)\n",
    "\n",
    "Lists can be nested, i.e. a list of lists"
   ]
  },
  {
   "cell_type": "code",
   "execution_count": null,
   "metadata": {},
   "outputs": [],
   "source": [
    "my_nested_list =[[1,2,3],[4,5,6],[7,8,9]] #This is similar to a 2D array of image data"
   ]
  },
  {
   "cell_type": "markdown",
   "metadata": {},
   "source": [
    "Accessing the 2nd list element of the second list using indices"
   ]
  },
  {
   "cell_type": "code",
   "execution_count": null,
   "metadata": {},
   "outputs": [],
   "source": [
    "my_nested_list[1][1]"
   ]
  },
  {
   "cell_type": "markdown",
   "metadata": {},
   "source": [
    "## Dictionaries\n",
    "\n",
    "Dictionaries are an important data structure in Python because they store data as **key-value pairs**, allowing for fast and efficient data retrieval. \n",
    "\n",
    "They are ideal for situations where you need to quickly access, update, or organize data using a unique identifier (the key). This makes dictionaries useful for tasks like counting items, grouping data, or implementing lookups."
   ]
  },
  {
   "cell_type": "markdown",
   "metadata": {},
   "source": [
    "**Creating a dictionary** - note the use of curly braces {}\n",
    "\n",
    "Dictionary keys have to be immutable data types (i.e. strings, numbers or tuples).\n",
    "\n",
    "Values can be any valid python data type (e.g. including lists, dictionaries etc)."
   ]
  },
  {
   "cell_type": "code",
   "execution_count": null,
   "metadata": {},
   "outputs": [],
   "source": [
    "city = {\n",
    "    \"name\": \"Manchester\",\n",
    "    \"country\": \"United Kingdom\",\n",
    "    \"population\": 553230,\n",
    "    \"region\": \"North West England\",\n",
    "    \"famous_for\": \"football and music\"\n",
    "}"
   ]
  },
  {
   "cell_type": "markdown",
   "metadata": {},
   "source": [
    "Accessing values for a specific key"
   ]
  },
  {
   "cell_type": "code",
   "execution_count": null,
   "metadata": {},
   "outputs": [],
   "source": [
    "print(\"City:\", city[\"name\"])"
   ]
  },
  {
   "cell_type": "markdown",
   "metadata": {},
   "source": [
    "Adding a new key-value pair"
   ]
  },
  {
   "cell_type": "code",
   "execution_count": null,
   "metadata": {},
   "outputs": [],
   "source": [
    "city[\"university\"] = \"University of Manchester\""
   ]
  },
  {
   "cell_type": "markdown",
   "metadata": {},
   "source": [
    "Updating a value"
   ]
  },
  {
   "cell_type": "code",
   "execution_count": null,
   "metadata": {},
   "outputs": [],
   "source": [
    "city[\"population\"] = 560000  # Updated population estimate"
   ]
  },
  {
   "cell_type": "markdown",
   "metadata": {},
   "source": [
    "Removing a key-value pair"
   ]
  },
  {
   "cell_type": "code",
   "execution_count": null,
   "metadata": {},
   "outputs": [],
   "source": [
    "del city[\"famous_for\"]\n",
    "print(city) #Print out the dictionary"
   ]
  },
  {
   "cell_type": "markdown",
   "metadata": {},
   "source": [
    "## Flow control and Conditional branching (if statements)\n",
    "\n",
    "- if .. elif .. else ..\n"
   ]
  },
  {
   "cell_type": "markdown",
   "metadata": {},
   "source": [
    "A key part of programming is decision making and flow control. This means having your code check to see whether a certain condition is met, then performing a task based upon the result.\n",
    "\n",
    "For example, we could ask the user to input a text file for analysis, check whether they have actually provided a text file, then process the data if they have, or give an error if they have not.\n",
    "\n",
    "The key commands for this are _if_,  _elif_, and _else_.\n",
    "\n",
    "The _if_ command is used to check if a statement is true. _elif_ (else if) is used to perform a second check, if the first query evaluates as false. _else_ tells the computer what to do if none of the above statements evaluate as true. See the example below as to how this would look in \"code form\""
   ]
  },
  {
   "cell_type": "markdown",
   "metadata": {},
   "source": [
    "Pseudo-code:\n",
    "```\n",
    "if condition1:\n",
    "    <block of statements>\n",
    "    #executed if condition1 is True\n",
    "elif condition2:\n",
    "    <block of statements>\n",
    "    #executed if condition1 is False and condition2 is True\n",
    "else:\n",
    "    <block of statements>\n",
    "    #executed if condition1 and condition2 are False\n",
    "    \n",
    "```"
   ]
  },
  {
   "cell_type": "markdown",
   "metadata": {},
   "source": [
    "### Inline _if_ tests \n"
   ]
  },
  {
   "cell_type": "markdown",
   "metadata": {},
   "source": [
    "At the start of this workbook, you defined a variable _a_. Try some tests using _if_ statements with this variable to see how they work. Try checking to see if _a_ is a integer or a string, and printing different statements depending on the result."
   ]
  },
  {
   "cell_type": "code",
   "execution_count": null,
   "metadata": {},
   "outputs": [],
   "source": [
    "type(b)\n",
    "ans = (1 if type(b)==float else 2)\n",
    "ans"
   ]
  },
  {
   "cell_type": "markdown",
   "metadata": {},
   "source": [
    "### Looping through lists (iterating)"
   ]
  },
  {
   "cell_type": "markdown",
   "metadata": {},
   "source": [
    "Lists can be easily looped through or iterated in python. Let's iterate through a list and print each of them:"
   ]
  },
  {
   "cell_type": "code",
   "execution_count": null,
   "metadata": {},
   "outputs": [],
   "source": [
    "numbers=[1,2,3,4,5,6,7,8,9,10]\n",
    "for num in numbers:\n",
    "    print(num) "
   ]
  },
  {
   "cell_type": "markdown",
   "metadata": {},
   "source": [
    "Alternatively, it is better to use the python `range()` function to provide a numeric iterable for a for loop"
   ]
  },
  {
   "cell_type": "code",
   "execution_count": 1,
   "metadata": {},
   "outputs": [
    {
     "name": "stdout",
     "output_type": "stream",
     "text": [
      "0\n",
      "1\n",
      "2\n",
      "3\n",
      "4\n",
      "5\n",
      "6\n",
      "7\n",
      "8\n",
      "9\n"
     ]
    }
   ],
   "source": [
    "for number in range(10):\n",
    "    print(number) "
   ]
  },
  {
   "cell_type": "markdown",
   "metadata": {},
   "source": [
    "There are several important take aways in this example. The first thing to note is the indentation. Indentation is used to separate the body of the `for` loop from the rest of the code. This might seem odd at first, but it soon becomes second nature and it makes it easy to stay organised and keep the code clean. You should use the <key>Tab</key> to ident code. This adds 4 spaces to the start of the line:\n",
    "\n",
    "Without an indentation we get an **IndentationError**:"
   ]
  },
  {
   "cell_type": "markdown",
   "metadata": {},
   "source": [
    "The other thing to notice is the colon ( `:` ) after the <code>for</code> statement. This is also a requirement to indicate the start of the loop. Without it we raise another error:"
   ]
  },
  {
   "cell_type": "markdown",
   "metadata": {},
   "source": [
    "This time we get a **syntax error** and again the arrow helpfully tells us where we have gone wrong."
   ]
  },
  {
   "cell_type": "markdown",
   "metadata": {},
   "source": [
    "Finally notice how the variable `number` takes the value of each of the iterable as iteration proceeds. Therefore, the name of this variable should be the best descriptive name for an item from the iterable. In this case we used `number` for number. Another good variable name in this case would be `integer`:"
   ]
  },
  {
   "cell_type": "code",
   "execution_count": null,
   "metadata": {},
   "outputs": [],
   "source": [
    "for integer in range(10):\n",
    "    print(integer) "
   ]
  },
  {
   "cell_type": "markdown",
   "metadata": {},
   "source": [
    "A non-descript variable name like `a` would also work, of course, but makes it harder to understand what the program is doing, especially as it get larger."
   ]
  },
  {
   "cell_type": "markdown",
   "metadata": {},
   "source": [
    "Instead of just printing each list item, we can also run an operation on it. For example, here we create a running sum: "
   ]
  },
  {
   "cell_type": "code",
   "execution_count": 4,
   "metadata": {},
   "outputs": [
    {
     "name": "stdout",
     "output_type": "stream",
     "text": [
      "1\n",
      "3\n",
      "6\n",
      "10\n",
      "15\n",
      "21\n",
      "28\n",
      "36\n",
      "45\n",
      "55\n"
     ]
    }
   ],
   "source": [
    "#Running sum code\n",
    "total = 0 #Initialise total\n",
    "for number in range(1,11):\n",
    "    total=total + number\n",
    "    print(total)"
   ]
  },
  {
   "cell_type": "markdown",
   "metadata": {},
   "source": [
    "\n",
    "\n",
    "In the next example, we use a conditional to sum only the even numbers. The [modulo](https://en.wikipedia.org/wiki/Modulo_operation) operator, `%`, returns the remainder of the integer division between two numbers. Since an even number is always divisible by 2, the modulo division between an even number and 2 will always be 0:"
   ]
  },
  {
   "cell_type": "code",
   "execution_count": null,
   "metadata": {},
   "outputs": [],
   "source": [
    "print(5%2) #5 is odd so there will be a remainder"
   ]
  },
  {
   "cell_type": "code",
   "execution_count": null,
   "metadata": {},
   "outputs": [],
   "source": [
    "print(356%2) #356 is even so the remainder will be zero"
   ]
  },
  {
   "cell_type": "markdown",
   "metadata": {},
   "source": [
    "We can now incude in our for loop and use a conditional add only even numbers:"
   ]
  },
  {
   "cell_type": "markdown",
   "metadata": {},
   "source": [
    "### <span style=\"color: red\"> Exercise:</span> Can you change the running sum code above to add only the odd numbers?"
   ]
  },
  {
   "cell_type": "code",
   "execution_count": 6,
   "metadata": {},
   "outputs": [
    {
     "name": "stdout",
     "output_type": "stream",
     "text": [
      "1\n",
      "4\n",
      "9\n",
      "16\n",
      "25\n"
     ]
    }
   ],
   "source": []
  },
  {
   "cell_type": "markdown",
   "metadata": {},
   "source": [
    "### <span style=\"color: red\"> Exercise:</span> Below is a list of ten names. Use a \"for loop\" to printout the list items."
   ]
  },
  {
   "cell_type": "code",
   "execution_count": null,
   "metadata": {},
   "outputs": [],
   "source": [
    "names=['jack','lisa','bernard','sebastian','joe','rose','christopher','henry','zacharya', 'ernest']"
   ]
  },
  {
   "cell_type": "code",
   "execution_count": null,
   "metadata": {},
   "outputs": [],
   "source": []
  },
  {
   "cell_type": "markdown",
   "metadata": {},
   "source": [
    "### <span style=\"color: red\"> Exercise:</span>  Use loops and conditional statements to print the elements of the list `names` with fewer than 5 characters."
   ]
  },
  {
   "cell_type": "code",
   "execution_count": null,
   "metadata": {},
   "outputs": [],
   "source": []
  },
  {
   "cell_type": "markdown",
   "metadata": {},
   "source": [
    "## Packages or modules"
   ]
  },
  {
   "cell_type": "markdown",
   "metadata": {},
   "source": [
    "One of the great features in python is the amazing scientific python community and the packages they have developed and shared. These are collections of programs that do useful things and that can be \"imported\" to run in other programs. To import a package we just use the command `import`:"
   ]
  },
  {
   "cell_type": "markdown",
   "metadata": {},
   "source": [
    "# `import turtle`"
   ]
  },
  {
   "cell_type": "markdown",
   "metadata": {},
   "source": [
    "<div>\n",
    "<img src=\"https://turtle360.net/_src/7148/shapes.jpg\" width=\"700\"/>\n",
    "</div>\n"
   ]
  },
  {
   "cell_type": "code",
   "execution_count": 7,
   "metadata": {},
   "outputs": [],
   "source": [
    "#Here's a fun example: A turtle that draws\n",
    "import turtle\n",
    "\n",
    "turtle.color('red')\n",
    "#Draw a triangle\n",
    "turtle.forward(100) #in steps\n",
    "turtle.left(120) #in degrees\n",
    "turtle.forward(100)\n",
    "turtle.left(120)\n",
    "turtle.forward(100)\n",
    "\n",
    "#Draw a hexagon\n",
    "for i in range(6):\n",
    "        turtle.forward(80)\n",
    "        turtle.right(60)\n",
    "\n",
    "turtle.done()"
   ]
  },
  {
   "cell_type": "markdown",
   "metadata": {},
   "source": [
    "If there is something scientific you want to do, then there is probably a package that can do it. There are two packages we will use extensively:\n",
    "\n",
    "- [numpy](http://www.numpy.org/) which provides tools for handling and calculating with numerical arrays \n",
    "- [matplotlib](http://matplotlib.org/) which provides tools for plotting and visualizing data\n",
    "\n",
    "To use packages you need to import them into the working namespace:"
   ]
  },
  {
   "cell_type": "code",
   "execution_count": null,
   "metadata": {},
   "outputs": [],
   "source": [
    "import numpy as np\n",
    "import matplotlib.pyplot as plt #matplotlib.pyplot is the plotting part of matplotlib"
   ]
  },
  {
   "cell_type": "markdown",
   "metadata": {},
   "source": [
    "You will see that we often import these at the start of our notebooks. The names after <code>as</code> are then used as \"prefixes\" for all commands in that package.\n",
    "\n",
    "These packages are very powerful. Here are some examples of what you can do with them."
   ]
  },
  {
   "cell_type": "markdown",
   "metadata": {},
   "source": [
    "## Plotting mathematical functions"
   ]
  },
  {
   "cell_type": "markdown",
   "metadata": {},
   "source": [
    "Visualizing mathematical functions is often very useful. With numpy and matplotlib this is straight forward. Lets plot $y=sin(x)$. \n",
    "\n",
    "First we need to create an array of x values:"
   ]
  },
  {
   "cell_type": "code",
   "execution_count": null,
   "metadata": {},
   "outputs": [],
   "source": [
    "x=np.linspace(0,2*np.pi,361) #Automatically creates an numpy array, x"
   ]
  },
  {
   "cell_type": "markdown",
   "metadata": {},
   "source": [
    "Here we used the linspace function to create an array of evenly spaced values. The \"`np.`\" prefix indicates we are \"borrowing\" this function from the `numpy` library or package. In this expression we are using both the function `np.linspace` and `np.pi` which returns the numerical value of the constant $\\pi$.\n",
    "\n",
    "To see the documentation for any function just enter the function name followed by a ? in a code cell:"
   ]
  },
  {
   "cell_type": "code",
   "execution_count": null,
   "metadata": {},
   "outputs": [],
   "source": [
    "np.linspace?"
   ]
  },
  {
   "cell_type": "markdown",
   "metadata": {},
   "source": [
    "This is a quick way of remembering how a function is called (with the parameters it takes)"
   ]
  },
  {
   "cell_type": "markdown",
   "metadata": {},
   "source": [
    "Now we can calculate $sin(x)$:"
   ]
  },
  {
   "cell_type": "code",
   "execution_count": null,
   "metadata": {},
   "outputs": [],
   "source": [
    "y=np.sin(x)"
   ]
  },
  {
   "cell_type": "markdown",
   "metadata": {},
   "source": [
    "Notice that the `sin` function is also from `numpy`, hence the `np.` prefix."
   ]
  },
  {
   "cell_type": "code",
   "execution_count": null,
   "metadata": {},
   "outputs": [],
   "source": [
    "print(y)"
   ]
  },
  {
   "cell_type": "markdown",
   "metadata": {},
   "source": [
    "Now we can plot it, First we need to define where the plots will appear. The following command makes the plots appear in the notebook. Usually this appears at the start of a notebook:"
   ]
  },
  {
   "cell_type": "code",
   "execution_count": null,
   "metadata": {},
   "outputs": [],
   "source": [
    "%matplotlib inline"
   ]
  },
  {
   "cell_type": "markdown",
   "metadata": {},
   "source": [
    "Now we can plot the function using the <code>plt.plot</code> command and decorate the plot:"
   ]
  },
  {
   "cell_type": "code",
   "execution_count": null,
   "metadata": {},
   "outputs": [],
   "source": [
    "plt.plot(x,y) #plots the blue line from the values of sin(x) calculated above\n",
    "plt.xlabel('x') #label for x axis\n",
    "plt.ylabel('$y=\\sin(x)$') #label for y axis\n",
    "plt.title('$\\sin(x)$'); #plot title\n",
    "plt.axis ([0.0, 6.28,-1.0,1.0])\n",
    "plt.legend ('S')\n",
    "plt.savefig('myfig.png')"
   ]
  },
  {
   "cell_type": "markdown",
   "metadata": {},
   "source": [
    "## Built-in data structures (II)\n",
    "### Arrays and lists"
   ]
  },
  {
   "cell_type": "markdown",
   "metadata": {},
   "source": [
    "We started off with lists and then used arrays to plot the trignometric functions. What's the difference between the two? \n",
    "\n",
    "They are both data structures but whereas lists are built-in data structures, that is they are part of the core Python language. Arrays on the other hand are data structures from the `numpy` package. Whereas lists are very versatile (you can have lists of arrays), arrays are designed for making calculations as fast as possible. Most lists can be turned into arrays using the `numpy` array function:"
   ]
  },
  {
   "cell_type": "code",
   "execution_count": null,
   "metadata": {},
   "outputs": [],
   "source": [
    "num_list=[1,2,3,4,5,6]\n",
    "num_array=np.array(num_list)"
   ]
  },
  {
   "cell_type": "code",
   "execution_count": null,
   "metadata": {},
   "outputs": [],
   "source": [
    "print (type (num_list))\n",
    "print (type (num_array))\n"
   ]
  },
  {
   "cell_type": "code",
   "execution_count": null,
   "metadata": {},
   "outputs": [],
   "source": [
    "print(num_array)"
   ]
  },
  {
   "cell_type": "markdown",
   "metadata": {},
   "source": [
    "Specialised methods for array data structure, e.g:\n",
    "- array.append(x)\n",
    "- array.count (x)\n",
    "- array.index (x)\n",
    "- array.reverse()\n",
    "\n",
    "Try them !"
   ]
  },
  {
   "cell_type": "markdown",
   "metadata": {},
   "source": [
    "The most important difference between lists and array is the kind of operations that are possible with each of them. Summing or multiplying lists of numbers can be done very effectively using arrays:"
   ]
  },
  {
   "cell_type": "code",
   "execution_count": null,
   "metadata": {},
   "outputs": [],
   "source": [
    "print(num_array+num_array)"
   ]
  },
  {
   "cell_type": "markdown",
   "metadata": {},
   "source": [
    "The `+` operator does something very different with lists:"
   ]
  },
  {
   "cell_type": "code",
   "execution_count": null,
   "metadata": {},
   "outputs": [],
   "source": [
    "print(num_list+num_list)"
   ]
  },
  {
   "cell_type": "markdown",
   "metadata": {},
   "source": [
    "Multiplication of lists brings up an error:"
   ]
  },
  {
   "cell_type": "code",
   "execution_count": null,
   "metadata": {},
   "outputs": [],
   "source": [
    "num_list*num_list"
   ]
  },
  {
   "cell_type": "markdown",
   "metadata": {},
   "source": [
    "Whereas multiplicating arrays is fine as long as they are the same size. "
   ]
  },
  {
   "cell_type": "code",
   "execution_count": null,
   "metadata": {},
   "outputs": [],
   "source": [
    "num_array*num_array"
   ]
  },
  {
   "cell_type": "markdown",
   "metadata": {},
   "source": [
    "Note that the operation is \"broadcast\", that is the first element in one array is multiplied with the first element in the other array, the second with the second etc."
   ]
  },
  {
   "cell_type": "markdown",
   "metadata": {},
   "source": [
    "## Multi dimensional arrays\n",
    "\n",
    "Numpy makes it easy to create multidimensional arrays. Here is a 2D array:"
   ]
  },
  {
   "cell_type": "code",
   "execution_count": null,
   "metadata": {},
   "outputs": [],
   "source": [
    "\n",
    "arrayA=np.array([['a','b','c','d'],['e','f','g','h'],['i','j','k','l']])\n"
   ]
  },
  {
   "cell_type": "markdown",
   "metadata": {},
   "source": [
    "Which can be a matrix, for example:"
   ]
  },
  {
   "cell_type": "code",
   "execution_count": null,
   "metadata": {},
   "outputs": [],
   "source": [
    "print(np.matrix(arrayA))"
   ]
  },
  {
   "cell_type": "code",
   "execution_count": null,
   "metadata": {},
   "outputs": [],
   "source": [
    "print(arrayA[2,3]) #remember indexing in Python starts at 0! Row, Column format!"
   ]
  },
  {
   "cell_type": "markdown",
   "metadata": {},
   "source": [
    "Like lists and arrays, multidimensional arrays can be indexed and sliced:"
   ]
  },
  {
   "cell_type": "code",
   "execution_count": null,
   "metadata": {},
   "outputs": [],
   "source": [
    "print(arrayA[1:3,1:4]) #Selects from [1,1] including [1,1] and to [3,4] excluding [3,4]. \n",
    "\n",
    "#So the 4 runs the selection off the end of the page so we get the last column (blank is better)"
   ]
  },
  {
   "cell_type": "markdown",
   "metadata": {},
   "source": [
    "### <span style=\"color: red\"> Exercise:</span> Use slicing and indexing to print out individual rows, columns and items of `arrayA`."
   ]
  },
  {
   "cell_type": "code",
   "execution_count": null,
   "metadata": {},
   "outputs": [],
   "source": []
  },
  {
   "cell_type": "markdown",
   "metadata": {},
   "source": [
    "## Visualizing 2D arrays as matrices:"
   ]
  },
  {
   "cell_type": "markdown",
   "metadata": {},
   "source": [
    "We can visualize the 2D array as a matrix using matplotlib. Take arrayA:"
   ]
  },
  {
   "cell_type": "code",
   "execution_count": null,
   "metadata": {},
   "outputs": [],
   "source": [
    "arrayB=np.array([[1,2,4,8],[2,4,8,16],[4,8,16,32]])\n",
    "print(arrayB)"
   ]
  },
  {
   "cell_type": "markdown",
   "metadata": {},
   "source": [
    "This matrix can be visualized using the `matshow` function of the `matploltib` module we imported earlier.\n",
    "You will learn more details about matrices as images visulisations in image analysis lecture."
   ]
  },
  {
   "cell_type": "code",
   "execution_count": null,
   "metadata": {},
   "outputs": [],
   "source": [
    "\n",
    "plt.matshow(arrayB, interpolation='none') #we set interpolation to none because the default is linear. Try it out.\n",
    "plt.colorbar() #create colour scale bar"
   ]
  },
  {
   "cell_type": "markdown",
   "metadata": {},
   "source": [
    "### Array manipulation:"
   ]
  },
  {
   "cell_type": "markdown",
   "metadata": {},
   "source": [
    "As we saw earlier for 1D arrays, when arrays are multiplied together, each item gets multiplied by the corresponding item in the other array:"
   ]
  },
  {
   "cell_type": "code",
   "execution_count": null,
   "metadata": {},
   "outputs": [],
   "source": [
    "print(arrayB*arrayB)"
   ]
  },
  {
   "cell_type": "markdown",
   "metadata": {},
   "source": [
    "This is very useful because it saves us having to loop through every item and do an operation on each. So even though arrays can look like matrices, they do not multiply like matrices. "
   ]
  },
  {
   "cell_type": "markdown",
   "metadata": {},
   "source": [
    "### <span style=\"color: red\"> Exercise:</span> The following command produces an error. Why?"
   ]
  },
  {
   "cell_type": "code",
   "execution_count": null,
   "metadata": {},
   "outputs": [],
   "source": [
    "arrayB[1:-1,1:-1]/arrayB"
   ]
  },
  {
   "cell_type": "code",
   "execution_count": null,
   "metadata": {},
   "outputs": [],
   "source": [
    "arrayB[-1:5,-1:5]/arrayB"
   ]
  },
  {
   "cell_type": "markdown",
   "metadata": {},
   "source": [
    "### <span style=\"color: blue\"> Solution:</span> \n",
    "They're the wrong \"shape\", by which we mean they're different sizes to each other."
   ]
  },
  {
   "cell_type": "code",
   "execution_count": null,
   "metadata": {},
   "outputs": [],
   "source": [
    "#Methods to check the size and shape of an array\n",
    "print(arrayB.size) #Number of elements in arrayB\n",
    "print(arrayB.shape) #Dimensions of arrayB"
   ]
  },
  {
   "cell_type": "markdown",
   "metadata": {},
   "source": [
    "Arrays and their efficient use are the bread and butter of scientific computing. Python, with `numpy`, has many useful funtions to work with arrays. For example, tiling arrays can be done using the `tile` function:"
   ]
  },
  {
   "cell_type": "code",
   "execution_count": null,
   "metadata": {},
   "outputs": [],
   "source": [
    "tileA=np.tile(arrayB,(5,5))"
   ]
  },
  {
   "cell_type": "code",
   "execution_count": null,
   "metadata": {},
   "outputs": [],
   "source": [
    "np.shape(tileA)"
   ]
  },
  {
   "cell_type": "markdown",
   "metadata": {},
   "source": [
    "You can use <code>matshow</code> to see the tiled arrays:"
   ]
  },
  {
   "cell_type": "code",
   "execution_count": null,
   "metadata": {},
   "outputs": [],
   "source": [
    "plt.matshow(tileA, interpolation='none')"
   ]
  },
  {
   "cell_type": "markdown",
   "metadata": {},
   "source": [
    "Arrays can also be used in calculations:"
   ]
  },
  {
   "cell_type": "code",
   "execution_count": null,
   "metadata": {},
   "outputs": [],
   "source": [
    "arrayB=np.tan(tileA*np.pi/180)**2"
   ]
  },
  {
   "cell_type": "code",
   "execution_count": null,
   "metadata": {},
   "outputs": [],
   "source": [
    "plt.matshow(arrayB, interpolation='nearest')"
   ]
  },
  {
   "cell_type": "markdown",
   "metadata": {},
   "source": [
    "## Functions\n",
    "### Why functions?\n",
    "As we discussed in the introduction lecture, one of the most powerful and useful aspects of Python is the ability to create separate modules, or functions, than can then be run separately and shared.\n",
    "\n",
    "This gives us the following abilities, we can:\n",
    "- perform repetitive tasks\n",
    "- make code reusable by generating external modules \n",
    "- partition our program into well-tested blocks\n",
    "- have control of variable access"
   ]
  },
  {
   "cell_type": "markdown",
   "metadata": {},
   "source": [
    "### Development of functions\n",
    "Modifying existing code, and/or developing new functions, tends to follow this workflow:\n",
    "\n",
    "- implement your program in the main module \n",
    "- test your program \n",
    "- change the main part of the program into a function\n",
    "- store this function in module containing test"
   ]
  },
  {
   "cell_type": "markdown",
   "metadata": {},
   "source": [
    "### Structure for defining a function \n",
    "\n",
    "- `def functionname()` starts a function definition.\n",
    "- Any input parameters or arguments should be placed with () parantheses. You can also define parameters inside  these parantheses. \n",
    "- `return [expression]` exits a function, optionally passing back an expression to the caller.    \n",
    "\n",
    "You can see how this is structured below:\n"
   ]
  },
  {
   "cell_type": "raw",
   "metadata": {},
   "source": [
    "def functionname(parameters):\n",
    "    \"function_docstring\"\n",
    "    function_suite\n",
    "    return [expression]"
   ]
  },
  {
   "cell_type": "markdown",
   "metadata": {},
   "source": [
    "### Example : Fibonnacci series up to n\n",
    "In the Fibonnacci series, each number of the series is the sum of the previous two numbers:\n",
    "0 1 1 2 3 5 8 13 21 ....\n",
    "\n",
    "Let's make ourselves a function that outputs the Fibonnacci series up to a number we provide."
   ]
  },
  {
   "cell_type": "markdown",
   "metadata": {},
   "source": [
    "#### Implemetation as a function 'fib'"
   ]
  },
  {
   "cell_type": "code",
   "execution_count": null,
   "metadata": {},
   "outputs": [],
   "source": [
    "def fib(n):\n",
    "    \"Fibonacci Series up to n\"\n",
    "    a , b = 0 ,1\n",
    "    while a < n :\n",
    "        print (a)\n",
    "        a,b = b , a+b"
   ]
  },
  {
   "cell_type": "markdown",
   "metadata": {},
   "source": [
    "#### Access to docsring \n",
    "We can use the docsring to provide support, descriptions, and usage that can be recalled later. Here we have saved a simple description of the function."
   ]
  },
  {
   "cell_type": "code",
   "execution_count": null,
   "metadata": {},
   "outputs": [],
   "source": [
    "print (fib.__doc__)"
   ]
  },
  {
   "cell_type": "markdown",
   "metadata": {},
   "source": [
    "We can now use our _fib_ function with any input number _n_, and the function will produce the Fibonnacci series up to this point.\n",
    "\n",
    "Think, why does 'fib(13)' not produce 13 in the output, even though this is part of the series? Can you modify the above function such that it will be produced?\n",
    "\n",
    "<span style=\"color: red\">We've defined a less than.</span>"
   ]
  },
  {
   "cell_type": "code",
   "execution_count": null,
   "metadata": {},
   "outputs": [],
   "source": [
    "fib(13)"
   ]
  },
  {
   "cell_type": "markdown",
   "metadata": {},
   "source": [
    "## The scope of variables: Local vs Global\n",
    "### Example : Celsius to Farenheit (again)\n",
    "\n",
    "Global variables are variables that are defined outside of a function, but are used within a function. \n",
    "\n",
    "Local variables are defined only within a function, for example for temporary storage of data before further processing. Local variables cannot be accessed outside the function in which they are defined.\n",
    "\n",
    "If variables are given the same name, the local variable will take priority over the global variable.\n",
    "\n",
    "Let us define our temperature-conversion function again:\n",
    "\n"
   ]
  },
  {
   "cell_type": "code",
   "execution_count": null,
   "metadata": {},
   "outputs": [],
   "source": [
    "#Definition of our Celsius to Fahrenheit function\n",
    "def C2F (C):\n",
    "    F = (9.0/5)*C + 32  # local variable\n",
    "    print (\"C = %s F=%s\" %(C,F))\n",
    "    return F   \n",
    "\n",
    "#The function can be called in an unlimited fashion after definition\n",
    "\n",
    "#The indentation level shows that code below is outside of the function\n",
    "temperature_C = 25\n",
    "temperature_F = C2F(temperature_C)\n",
    "\n",
    "#Ask the user to enter a Celsius temperature\n",
    "temperature_C_string = input('Enter a temperature in Celsius: ')\n",
    "C2F(float(temperature_C_string))\n"
   ]
  },
  {
   "cell_type": "markdown",
   "metadata": {},
   "source": [
    "Above, `temperature_C` and `temperature_F` were globally defined variables.\n",
    "\n",
    "Inside the function `C2F()`, the variables `C` and `F` are local. They cannot be accessed from outside of the function!\n",
    "\n"
   ]
  },
  {
   "cell_type": "code",
   "execution_count": null,
   "metadata": {},
   "outputs": [],
   "source": [
    "print(F)"
   ]
  },
  {
   "cell_type": "markdown",
   "metadata": {},
   "source": [
    "### Note, you should minimise the use of global variables!\n",
    "\n",
    "As your code gets bigger and more complex, global variables have more opportunity to cause problems. \n",
    "\n",
    "* Source code is easiest to understand when what each function can do is limited. \n",
    "\n",
    "* By defining global variables that multiple functions can modify, it is hard to keep track of what is happening. \n",
    "\n",
    "* At worst, global variables combined with unchecked, third-party code can lead to enormous security problems as you do not have control over what that code can access."
   ]
  },
  {
   "cell_type": "markdown",
   "metadata": {},
   "source": [
    "## Post-course content: Coding style guide\n",
    "### <span style=\"color: green\"> Code is read much more often than it is written!  </span> \n",
    "\n",
    "An explainer article:https://realpython.com/python-pep8/\n",
    "\n",
    "PEP8 style guide:https://www.python.org/dev/peps/pep-0008/\n",
    "\n",
    "- Use 4-space indentation (good compromise between nesting depth and readability) and no tabs (confusing).\n",
    "- Wrap lines so that they don't exceed 79 characters. \n",
    "- Use blank lines to separate functions and classes, and larger blocks of code inside functions.\n",
    "- When possible, put comments on a line of their own. \n",
    "- Use space around operators and after commas, but not directly inside bracketing constructs: `a = f(1,2) + g(3,4)`.\n",
    "- Name your classes and functions consistently, e.g. CamelCase for classes and lowercase_with_underscores for functions and methods. \n",
    "- Use plain ASCII encodings."
   ]
  },
  {
   "cell_type": "markdown",
   "metadata": {},
   "source": [
    "## Example of a scientific Python code following PEP8"
   ]
  },
  {
   "cell_type": "code",
   "execution_count": null,
   "metadata": {},
   "outputs": [],
   "source": [
    "#Code to calculate the Phase Contrast Transfer Function of a TEM\n",
    "#Produced to PEP8 standards plus includes docstrings\n",
    "#All code used has been covered above in this notebook.\n",
    "\n",
    "import numpy as np\n",
    "import matplotlib.pyplot as plt\n",
    "\n",
    "\n",
    "def electron_wavelength(acceleration_voltage_kv):\n",
    "    \"\"\"\n",
    "    Calculate the relativistic electron wavelength in meters.\n",
    "\n",
    "    Parameters:\n",
    "        acceleration_voltage_kv (float): Acceleration voltage in kilovolts.\n",
    "\n",
    "    Returns:\n",
    "        float: Electron wavelength in meters.\n",
    "    \"\"\"\n",
    "    V = acceleration_voltage_kv * 1e3\n",
    "    m0 = 9.10938356e-31  # Electron rest mass (kg)\n",
    "    e = 1.602176634e-19  # Elementary charge (C)\n",
    "    h = 6.62607015e-34   # Planck's constant (Js)\n",
    "    c = 299792458        # Speed of light (m/s)\n",
    "\n",
    "    return h / np.sqrt(2 * m0 * e * V * (1 + e * V / (2 * m0 * c ** 2)))\n",
    "\n",
    "\n",
    "def phase_shift(frequency, defocus, cs, wavelength):\n",
    "    \"\"\"\n",
    "    Calculate the phase shift function χ(u) of the CTF.\n",
    "\n",
    "    Parameters:\n",
    "        frequency (ndarray): Spatial frequencies (1/m).\n",
    "        defocus (float): Defocus value (m).\n",
    "        cs (float): Spherical aberration constant (m).\n",
    "        wavelength (float): Electron wavelength (m).\n",
    "\n",
    "    Returns:\n",
    "        ndarray: Phase shift values (radians).\n",
    "    \"\"\"\n",
    "    return (0.5 * np.pi * wavelength * defocus * frequency ** 2\n",
    "            - 0.25 * np.pi * cs * wavelength ** 3 * frequency ** 4)\n",
    "\n",
    "\n",
    "def temporal_envelope(frequency, wavelength, defocus_spread):\n",
    "    \"\"\"\n",
    "    Compute the temporal coherence envelope function.\n",
    "\n",
    "    Parameters:\n",
    "        frequency (ndarray): Spatial frequencies (1/m).\n",
    "        wavelength (float): Electron wavelength (m).\n",
    "        defocus_spread (float): Defocus spread (m).\n",
    "\n",
    "    Returns:\n",
    "        ndarray: Temporal envelope values.\n",
    "    \"\"\"\n",
    "    return np.exp(-0.5 * (np.pi * wavelength * defocus_spread * frequency ** 2) ** 2)\n",
    "\n",
    "\n",
    "def spatial_envelope(frequency, wavelength, cs, defocus, alpha):\n",
    "    \"\"\"\n",
    "    Compute the spatial coherence envelope function.\n",
    "\n",
    "    Parameters:\n",
    "        frequency (ndarray): Spatial frequencies (1/m).\n",
    "        wavelength (float): Electron wavelength (m).\n",
    "        cs (float): Spherical aberration constant (m).\n",
    "        defocus (float): Defocus value (m).\n",
    "        alpha (float): Illumination semi-angle (radians).\n",
    "\n",
    "    Returns:\n",
    "        ndarray: Spatial envelope values.\n",
    "    \"\"\"\n",
    "    gamma = (np.pi * alpha * frequency *\n",
    "             (cs * wavelength ** 3 * frequency ** 2 - 2 * defocus * wavelength))\n",
    "    return np.exp(-0.5 * gamma ** 2)\n",
    "\n",
    "\n",
    "def phase_ctf(frequency, defocus, cs, wavelength,\n",
    "              defocus_spread, alpha):\n",
    "    \"\"\"\n",
    "    Calculate the phase contrast transfer function with envelope effects.\n",
    "\n",
    "    Parameters:\n",
    "        frequency (ndarray): Spatial frequencies (1/m).\n",
    "        defocus (float): Defocus value (m).\n",
    "        cs (float): Spherical aberration constant (m).\n",
    "        wavelength (float): Electron wavelength (m).\n",
    "        defocus_spread (float): Defocus spread (m).\n",
    "        alpha (float): Illumination semi-angle (radians).\n",
    "\n",
    "    Returns:\n",
    "        ndarray: Final CTF values including envelope damping.\n",
    "    \"\"\"\n",
    "    chi = phase_shift(frequency, defocus, cs, wavelength)\n",
    "    e_temp = temporal_envelope(frequency, wavelength, defocus_spread)\n",
    "    e_spat = spatial_envelope(frequency, wavelength, cs, defocus, alpha)\n",
    "    return np.sin(chi) * e_temp * e_spat\n",
    "\n",
    "\n",
    "def plot_ctf(frequency, ctf_values):\n",
    "    \"\"\"\n",
    "    Plot the phase CTF curve.\n",
    "\n",
    "    Parameters:\n",
    "        frequency (ndarray): Spatial frequencies (1/m).\n",
    "        ctf_values (ndarray): Computed CTF values.\n",
    "    \"\"\"\n",
    "    plt.figure(figsize=(8, 5))\n",
    "    plt.plot(frequency * 1e-10, ctf_values,\n",
    "             label='Phase CTF with Envelopes', color='blue')\n",
    "    plt.axhline(0, color='gray', linestyle='--', linewidth=0.8)\n",
    "    plt.xlabel(\"Spatial Frequency (1/Å)\")\n",
    "    plt.ylabel(\"CTF Amplitude\")\n",
    "    plt.title(\"TEM Phase Contrast Transfer Function with Envelopes\")\n",
    "    plt.grid(True)\n",
    "    plt.legend()\n",
    "    plt.tight_layout()\n",
    "    plt.show()\n",
    "    \n",
    "    return\n",
    "\n",
    "\n",
    "def main():\n",
    "    \"\"\"\n",
    "    Main function to compute and plot the phase CTF.\n",
    "    Adjust parameters here to match your TEM setup.\n",
    "    \"\"\"\n",
    "    acceleration_voltage_kv = 200         # Acceleration voltage in kV\n",
    "    defocus_m = -1e-6                     # Defocus in meters\n",
    "    cs_m = 2e-3                           # Spherical aberration in meters\n",
    "    defocus_spread_m = 5e-9              # Defocus spread (temporal coherence)\n",
    "    alpha_rad = 1e-3                      # Illumination semi-angle in radians\n",
    "\n",
    "    wavelength = electron_wavelength(acceleration_voltage_kv)\n",
    "    freq_max = 1 / (0.5e-10)              # Max frequency up to 0.5 Å\n",
    "    frequencies = np.linspace(0, freq_max, 1000)\n",
    "\n",
    "    ctf_vals = phase_ctf(\n",
    "        frequencies, defocus_m, cs_m, wavelength,\n",
    "        defocus_spread_m, alpha_rad\n",
    "    )\n",
    "    plot_ctf(frequencies, ctf_vals)\n",
    "\n",
    "\n",
    "if __name__ == \"__main__\":\n",
    "    main()\n"
   ]
  }
 ],
 "metadata": {
  "anaconda-cloud": {},
  "celltoolbar": "Edit Metadata",
  "kernelspec": {
   "display_name": "Python 3 (ipykernel)",
   "language": "python",
   "name": "python3"
  },
  "language_info": {
   "codemirror_mode": {
    "name": "ipython",
    "version": 3
   },
   "file_extension": ".py",
   "mimetype": "text/x-python",
   "name": "python",
   "nbconvert_exporter": "python",
   "pygments_lexer": "ipython3",
   "version": "3.11.5"
  },
  "widgets": {
   "application/vnd.jupyter.widget-state+json": {
    "state": {},
    "version_major": 2,
    "version_minor": 0
   }
  }
 },
 "nbformat": 4,
 "nbformat_minor": 4
}
